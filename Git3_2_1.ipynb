{
 "cells": [
  {
   "cell_type": "markdown",
   "id": "a34adde2",
   "metadata": {},
   "source": [
    "Context: The insurance company wants to know more of the stock in the shop. \n",
    "\n",
    "Business quaestions to answer:\n",
    "1. How many products contain the word Fire in their description?\n",
    "2. How many products contain the word candle in their description?\n",
    "3. How many products contain the word matches in their description?\n"
   ]
  },
  {
   "cell_type": "code",
   "execution_count": 6,
   "id": "5f96ab29",
   "metadata": {},
   "outputs": [
    {
     "name": "stdout",
     "output_type": "stream",
     "text": [
      "(3945, 2)\n",
      "Index(['StockCode', 'Description'], dtype='object')\n",
      "StockCode      object\n",
      "Description    object\n",
      "dtype: object\n"
     ]
    }
   ],
   "source": [
    "# Import Pandas and numpy\n",
    "import pandas as pd\n",
    "import numpy as np\n",
    "\n",
    "# Read the CSV file from the current working directory.\n",
    "products = pd.read_csv('products.csv')\n",
    "\n",
    "# View the DataFrame\n",
    "print(products.shape)\n",
    "print(products.columns)\n",
    "print(products.dtypes)"
   ]
  },
  {
   "cell_type": "code",
   "execution_count": 7,
   "id": "09181da2",
   "metadata": {},
   "outputs": [
    {
     "name": "stdout",
     "output_type": "stream",
     "text": [
      "<function contains_fire at 0x000001662E2F9EE0>\n"
     ]
    }
   ],
   "source": [
    "# Create a user defined function for product descriptions containing 'fire'. \n",
    "def contains_fire(a):\n",
    "    \"\"\" Does the description contain word 'fire'?\"\"\"\n",
    "    b = a.lower()\n",
    "    return \"fire\" in b\n",
    "print(contains_fire)"
   ]
  },
  {
   "cell_type": "code",
   "execution_count": 8,
   "id": "ad100443",
   "metadata": {},
   "outputs": [
    {
     "name": "stdout",
     "output_type": "stream",
     "text": [
      "<function contains_candle at 0x000001662E25EF70>\n"
     ]
    }
   ],
   "source": [
    "# Create a user defined function for product descriptions containing 'candle'. \n",
    "def contains_candle(c):\n",
    "    \"\"\" Does the description contain word 'candle'?\"\"\"\n",
    "    d = c.lower()\n",
    "    return \"candle\" in d\n",
    "print(contains_candle)"
   ]
  },
  {
   "cell_type": "code",
   "execution_count": 9,
   "id": "dff4f682",
   "metadata": {},
   "outputs": [
    {
     "name": "stdout",
     "output_type": "stream",
     "text": [
      "<function contains_matches at 0x000001662E3184C0>\n"
     ]
    }
   ],
   "source": [
    "# Create a user defined function for products descriptions containing 'matches'. \n",
    "def contains_matches(e):\n",
    "    \"\"\" Does the description contain word 'matches'?\"\"\"\n",
    "    f = e.lower()\n",
    "    return \"matches\" in f\n",
    "print(contains_matches)"
   ]
  },
  {
   "cell_type": "code",
   "execution_count": 10,
   "id": "77069e09",
   "metadata": {},
   "outputs": [
    {
     "name": "stdout",
     "output_type": "stream",
     "text": [
      "0       False\n",
      "1       False\n",
      "2       False\n",
      "3       False\n",
      "4       False\n",
      "        ...  \n",
      "3940    False\n",
      "3941    False\n",
      "3942    False\n",
      "3943    False\n",
      "3944    False\n",
      "Name: Description, Length: 3945, dtype: bool\n"
     ]
    },
    {
     "data": {
      "text/html": [
       "<div>\n",
       "<style scoped>\n",
       "    .dataframe tbody tr th:only-of-type {\n",
       "        vertical-align: middle;\n",
       "    }\n",
       "\n",
       "    .dataframe tbody tr th {\n",
       "        vertical-align: top;\n",
       "    }\n",
       "\n",
       "    .dataframe thead th {\n",
       "        text-align: right;\n",
       "    }\n",
       "</style>\n",
       "<table border=\"1\" class=\"dataframe\">\n",
       "  <thead>\n",
       "    <tr style=\"text-align: right;\">\n",
       "      <th></th>\n",
       "      <th>StockCode</th>\n",
       "      <th>Description</th>\n",
       "    </tr>\n",
       "  </thead>\n",
       "  <tbody>\n",
       "    <tr>\n",
       "      <th>1318</th>\n",
       "      <td>22428</td>\n",
       "      <td>ENAMEL FIRE BUCKET CREAM</td>\n",
       "    </tr>\n",
       "    <tr>\n",
       "      <th>3033</th>\n",
       "      <td>84569B</td>\n",
       "      <td>PACK 3 FIRE ENGINE/CAR PATCHES</td>\n",
       "    </tr>\n",
       "    <tr>\n",
       "      <th>3626</th>\n",
       "      <td>90039A</td>\n",
       "      <td>FIRE POLISHED GLASS BRACELET RED</td>\n",
       "    </tr>\n",
       "    <tr>\n",
       "      <th>3627</th>\n",
       "      <td>90039B</td>\n",
       "      <td>FIRE POLISHED GLASS BRACELET MONTAN</td>\n",
       "    </tr>\n",
       "    <tr>\n",
       "      <th>3628</th>\n",
       "      <td>90039C</td>\n",
       "      <td>FIRE POLISHED GLASS BRACELET BLACK</td>\n",
       "    </tr>\n",
       "    <tr>\n",
       "      <th>3629</th>\n",
       "      <td>90039D</td>\n",
       "      <td>FIRE POLISHED GLASS BRACELET GREEN</td>\n",
       "    </tr>\n",
       "    <tr>\n",
       "      <th>3656</th>\n",
       "      <td>90060B</td>\n",
       "      <td>FIRE POLISHED GLASS NECKL GOLD</td>\n",
       "    </tr>\n",
       "    <tr>\n",
       "      <th>3657</th>\n",
       "      <td>90060D</td>\n",
       "      <td>FIRE POLISHED GLASS NECKL BRONZE</td>\n",
       "    </tr>\n",
       "    <tr>\n",
       "      <th>3658</th>\n",
       "      <td>90060F</td>\n",
       "      <td>FIRE POLISHED GLASS NECKL GREEN</td>\n",
       "    </tr>\n",
       "  </tbody>\n",
       "</table>\n",
       "</div>"
      ],
      "text/plain": [
       "     StockCode                          Description\n",
       "1318     22428             ENAMEL FIRE BUCKET CREAM\n",
       "3033    84569B       PACK 3 FIRE ENGINE/CAR PATCHES\n",
       "3626    90039A     FIRE POLISHED GLASS BRACELET RED\n",
       "3627    90039B  FIRE POLISHED GLASS BRACELET MONTAN\n",
       "3628    90039C   FIRE POLISHED GLASS BRACELET BLACK\n",
       "3629    90039D   FIRE POLISHED GLASS BRACELET GREEN\n",
       "3656    90060B       FIRE POLISHED GLASS NECKL GOLD\n",
       "3657    90060D     FIRE POLISHED GLASS NECKL BRONZE\n",
       "3658    90060F      FIRE POLISHED GLASS NECKL GREEN"
      ]
     },
     "execution_count": 10,
     "metadata": {},
     "output_type": "execute_result"
    }
   ],
   "source": [
    "# Use the apply() function on Series.\n",
    "ff = products['Description'].apply(contains_fire)\n",
    "\n",
    "# View the DataFrame.\n",
    "print(ff)\n",
    "\n",
    "# Filter the DataFrame.\n",
    "products[ff]"
   ]
  },
  {
   "cell_type": "code",
   "execution_count": 11,
   "id": "32608abf",
   "metadata": {},
   "outputs": [
    {
     "name": "stdout",
     "output_type": "stream",
     "text": [
      "0       False\n",
      "1       False\n",
      "2       False\n",
      "3       False\n",
      "4       False\n",
      "        ...  \n",
      "3940    False\n",
      "3941    False\n",
      "3942    False\n",
      "3943    False\n",
      "3944    False\n",
      "Name: Description, Length: 3945, dtype: bool\n"
     ]
    },
    {
     "data": {
      "text/html": [
       "<div>\n",
       "<style scoped>\n",
       "    .dataframe tbody tr th:only-of-type {\n",
       "        vertical-align: middle;\n",
       "    }\n",
       "\n",
       "    .dataframe tbody tr th {\n",
       "        vertical-align: top;\n",
       "    }\n",
       "\n",
       "    .dataframe thead th {\n",
       "        text-align: right;\n",
       "    }\n",
       "</style>\n",
       "<table border=\"1\" class=\"dataframe\">\n",
       "  <thead>\n",
       "    <tr style=\"text-align: right;\">\n",
       "      <th></th>\n",
       "      <th>StockCode</th>\n",
       "      <th>Description</th>\n",
       "    </tr>\n",
       "  </thead>\n",
       "  <tbody>\n",
       "    <tr>\n",
       "      <th>83</th>\n",
       "      <td>17012A</td>\n",
       "      <td>ORIGAMI VANILLA INCENSE/CANDLE SET</td>\n",
       "    </tr>\n",
       "    <tr>\n",
       "      <th>84</th>\n",
       "      <td>17012B</td>\n",
       "      <td>ORIGAMI JASMINE INCENSE/CANDLE SET</td>\n",
       "    </tr>\n",
       "    <tr>\n",
       "      <th>86</th>\n",
       "      <td>17012D</td>\n",
       "      <td>ORIGAMI ROSE INCENSE/CANDLE SET</td>\n",
       "    </tr>\n",
       "    <tr>\n",
       "      <th>87</th>\n",
       "      <td>17012E</td>\n",
       "      <td>ORIGAMI OPIUM INCENSE/CANDLE SET</td>\n",
       "    </tr>\n",
       "    <tr>\n",
       "      <th>107</th>\n",
       "      <td>17136A</td>\n",
       "      <td>BLUE STONES ON WIRE FOR CANDLE</td>\n",
       "    </tr>\n",
       "    <tr>\n",
       "      <th>...</th>\n",
       "      <td>...</td>\n",
       "      <td>...</td>\n",
       "    </tr>\n",
       "    <tr>\n",
       "      <th>3530</th>\n",
       "      <td>85230A</td>\n",
       "      <td>OPIUM SCENTED VOTIVE CANDLE</td>\n",
       "    </tr>\n",
       "    <tr>\n",
       "      <th>3531</th>\n",
       "      <td>85230B</td>\n",
       "      <td>CINNAMON SCENTED VOTIVE CANDLE</td>\n",
       "    </tr>\n",
       "    <tr>\n",
       "      <th>3532</th>\n",
       "      <td>85230E</td>\n",
       "      <td>STRAWBRY SCENTED VOTIVE CANDLE</td>\n",
       "    </tr>\n",
       "    <tr>\n",
       "      <th>3533</th>\n",
       "      <td>85230F</td>\n",
       "      <td>JASMINE VOTIVE CANDLE</td>\n",
       "    </tr>\n",
       "    <tr>\n",
       "      <th>3534</th>\n",
       "      <td>85230G</td>\n",
       "      <td>ORANGE VOTIVE CANDLE</td>\n",
       "    </tr>\n",
       "  </tbody>\n",
       "</table>\n",
       "<p>178 rows × 2 columns</p>\n",
       "</div>"
      ],
      "text/plain": [
       "     StockCode                         Description\n",
       "83      17012A  ORIGAMI VANILLA INCENSE/CANDLE SET\n",
       "84      17012B  ORIGAMI JASMINE INCENSE/CANDLE SET\n",
       "86      17012D     ORIGAMI ROSE INCENSE/CANDLE SET\n",
       "87      17012E    ORIGAMI OPIUM INCENSE/CANDLE SET\n",
       "107     17136A      BLUE STONES ON WIRE FOR CANDLE\n",
       "...        ...                                 ...\n",
       "3530    85230A         OPIUM SCENTED VOTIVE CANDLE\n",
       "3531    85230B      CINNAMON SCENTED VOTIVE CANDLE\n",
       "3532    85230E      STRAWBRY SCENTED VOTIVE CANDLE\n",
       "3533    85230F               JASMINE VOTIVE CANDLE\n",
       "3534    85230G                ORANGE VOTIVE CANDLE\n",
       "\n",
       "[178 rows x 2 columns]"
      ]
     },
     "execution_count": 11,
     "metadata": {},
     "output_type": "execute_result"
    }
   ],
   "source": [
    "# Use the apply() function on Series.\n",
    "fc = products['Description'].apply(contains_candle)\n",
    "\n",
    "# View the DataFrame.\n",
    "print(fc)\n",
    "\n",
    "# Filter the DataFrame.\n",
    "products[fc]"
   ]
  },
  {
   "cell_type": "code",
   "execution_count": 12,
   "id": "b28fadca",
   "metadata": {},
   "outputs": [
    {
     "name": "stdout",
     "output_type": "stream",
     "text": [
      "0       False\n",
      "1       False\n",
      "2       False\n",
      "3       False\n",
      "4       False\n",
      "        ...  \n",
      "3940    False\n",
      "3941    False\n",
      "3942    False\n",
      "3943    False\n",
      "3944    False\n",
      "Name: Description, Length: 3945, dtype: bool\n"
     ]
    },
    {
     "data": {
      "text/html": [
       "<div>\n",
       "<style scoped>\n",
       "    .dataframe tbody tr th:only-of-type {\n",
       "        vertical-align: middle;\n",
       "    }\n",
       "\n",
       "    .dataframe tbody tr th {\n",
       "        vertical-align: top;\n",
       "    }\n",
       "\n",
       "    .dataframe thead th {\n",
       "        text-align: right;\n",
       "    }\n",
       "</style>\n",
       "<table border=\"1\" class=\"dataframe\">\n",
       "  <thead>\n",
       "    <tr style=\"text-align: right;\">\n",
       "      <th></th>\n",
       "      <th>StockCode</th>\n",
       "      <th>Description</th>\n",
       "    </tr>\n",
       "  </thead>\n",
       "  <tbody>\n",
       "    <tr>\n",
       "      <th>669</th>\n",
       "      <td>21584</td>\n",
       "      <td>RETROSPOT SMALL TUBE MATCHES</td>\n",
       "    </tr>\n",
       "    <tr>\n",
       "      <th>670</th>\n",
       "      <td>21586</td>\n",
       "      <td>KINGS CHOICE GIANT TUBE MATCHES</td>\n",
       "    </tr>\n",
       "    <tr>\n",
       "      <th>671</th>\n",
       "      <td>21587</td>\n",
       "      <td>COSY HOUR GIANT TUBE MATCHES</td>\n",
       "    </tr>\n",
       "    <tr>\n",
       "      <th>672</th>\n",
       "      <td>21588</td>\n",
       "      <td>RETROSPOT GIANT TUBE MATCHES</td>\n",
       "    </tr>\n",
       "    <tr>\n",
       "      <th>673</th>\n",
       "      <td>21591</td>\n",
       "      <td>COSY HOUR CIGAR BOX MATCHES</td>\n",
       "    </tr>\n",
       "    <tr>\n",
       "      <th>674</th>\n",
       "      <td>21592</td>\n",
       "      <td>RETROSPOT CIGAR BOX MATCHES</td>\n",
       "    </tr>\n",
       "  </tbody>\n",
       "</table>\n",
       "</div>"
      ],
      "text/plain": [
       "    StockCode                      Description\n",
       "669     21584     RETROSPOT SMALL TUBE MATCHES\n",
       "670     21586  KINGS CHOICE GIANT TUBE MATCHES\n",
       "671     21587     COSY HOUR GIANT TUBE MATCHES\n",
       "672     21588     RETROSPOT GIANT TUBE MATCHES\n",
       "673     21591      COSY HOUR CIGAR BOX MATCHES\n",
       "674     21592      RETROSPOT CIGAR BOX MATCHES"
      ]
     },
     "execution_count": 12,
     "metadata": {},
     "output_type": "execute_result"
    }
   ],
   "source": [
    "# Use the apply() function on Series.\n",
    "fm = products['Description'].apply(contains_matches)\n",
    "\n",
    "# View the DataFrame.\n",
    "print(fm)\n",
    "\n",
    "# Filter the DataFrame.\n",
    "products[fm]"
   ]
  },
  {
   "cell_type": "markdown",
   "id": "f79933fc",
   "metadata": {},
   "source": [
    "Answers to business questions:\n",
    "1. Number of products containing word 'fire' : 9\n",
    "2. Number of products containing word 'candle' : 178\n",
    "3. Number of products containing word 'matches' : 6"
   ]
  }
 ],
 "metadata": {
  "kernelspec": {
   "display_name": "Python 3 (ipykernel)",
   "language": "python",
   "name": "python3"
  },
  "language_info": {
   "codemirror_mode": {
    "name": "ipython",
    "version": 3
   },
   "file_extension": ".py",
   "mimetype": "text/x-python",
   "name": "python",
   "nbconvert_exporter": "python",
   "pygments_lexer": "ipython3",
   "version": "3.9.13"
  }
 },
 "nbformat": 4,
 "nbformat_minor": 5
}
